{
 "cells": [
  {
   "cell_type": "markdown",
   "metadata": {},
   "source": [
    "**ANÁLISIS DESCRIPTIVO**"
   ]
  },
  {
   "cell_type": "code",
   "execution_count": 1,
   "metadata": {},
   "outputs": [],
   "source": [
    "import pandas as pd\n",
    "import numpy as np\n",
    "import seaborn as sns\n",
    "import matplotlib.pyplot as plt"
   ]
  },
  {
   "cell_type": "code",
   "execution_count": 2,
   "metadata": {},
   "outputs": [],
   "source": [
    "df = pd.read_excel('resultados copia.xlsx')\n",
    "df"
   ]
  },
  {
   "cell_type": "code",
   "execution_count": null,
   "metadata": {},
   "outputs": [],
   "source": [
    "media_tiempo = df['Tiempo'].mean()\n",
    "desviacion_tiempo = df['Tiempo'].std()\n",
    "varianza_tiempo = df['Tiempo'].var()\n",
    "maximo_tiempo = df['Tiempo'].max()\n",
    "minimo_tiempo = df['Tiempo'].min()"
   ]
  },
  {
   "cell_type": "code",
   "execution_count": null,
   "metadata": {},
   "outputs": [],
   "source": [
    "print('Media tiempo:',media_tiempo)\n",
    "print('Desviacion tiempo:',desviacion_tiempo)\n",
    "print('Varianza tiempo:',varianza_tiempo)\n",
    "print('Maximo tiempo:',maximo_tiempo)\n",
    "print('Minimo tiempo:',minimo_tiempo)\n"
   ]
  },
  {
   "cell_type": "code",
   "execution_count": null,
   "metadata": {},
   "outputs": [],
   "source": [
    "grupo_optimizador = df.groupby('Optimizador')\n",
    "media_por_optimizador = grupo_optimizador.mean()\n",
    "\n",
    "# Aplica múltiples funciones agregadas usando el método agg\n",
    "resultados_agregados = grupo_optimizador.agg({\n",
    "    'Tiempo': ['mean', 'std', 'var', 'max', 'min']\n",
    "})\n",
    "\n",
    "# Imprime el resultado\n",
    "print(resultados_agregados)"
   ]
  },
  {
   "cell_type": "code",
   "execution_count": null,
   "metadata": {},
   "outputs": [],
   "source": [
    "# Aplica múltiples funciones agregadas usando el método agg\n",
    "resultados_agregados2 = grupo_optimizador.agg({\n",
    "    'Mean': ['mean', 'std', 'var', 'max', 'min']\n",
    "})\n",
    "\n",
    "# Imprime el resultado\n",
    "print(resultados_agregados2)"
   ]
  },
  {
   "cell_type": "code",
   "execution_count": null,
   "metadata": {},
   "outputs": [],
   "source": [
    "# Configura el estilo y el tamaño del gráfico\n",
    "sns.set(style=\"whitegrid\")\n",
    "plt.figure(figsize=(10, 6))\n",
    "\n",
    "# Crea un diagrama de cajas para la variable 'Tiempo'\n",
    "plt.subplot(2, 1, 1)  # 2 filas, 1 columna, primer gráfico\n",
    "sns.boxplot(x='Optimizador', y='Tiempo', data=df)\n",
    "plt.title('Boxplot de Tiempo por Optimizador')\n",
    "\n",
    "# Crea un diagrama de cajas para la variable 'Mean'\n",
    "plt.subplot(2, 1, 2)  # 2 filas, 1 columna, segundo gráfico\n",
    "sns.boxplot(x='Optimizador', y='Mean', data=df)\n",
    "plt.title('Boxplot de Mean por Optimizador')\n",
    "\n",
    "# Ajusta el diseño del gráfico\n",
    "plt.tight_layout()\n",
    "\n",
    "# Muestra el gráfico\n",
    "plt.show()"
   ]
  },
  {
   "cell_type": "code",
   "execution_count": null,
   "metadata": {},
   "outputs": [],
   "source": [
    "import pandas as pd\n",
    "import seaborn as sns\n",
    "import matplotlib.pyplot as plt\n",
    "import statsmodels.api as sm"
   ]
  },
  {
   "cell_type": "code",
   "execution_count": null,
   "metadata": {},
   "outputs": [],
   "source": [
    "# Importing library\n",
    "import pandas as pd\n",
    "import seaborn as sns\n",
    "import matplotlib.pyplot as plt\n",
    "import statsmodels.api as sm\n",
    "from scipy import stats\n",
    "modelo_anova = sm.formula.ols('Mean ~ C(Optimizador)', data=df).fit()\n",
    "anova_table = sm.stats.anova_lm(modelo_anova, typ=2)\n",
    "\n",
    "# Imprime la tabla ANOVA\n",
    "print(anova_table)\n",
    "\n",
    "# Calcula los residuos\n",
    "residuos = modelo_anova.resid\n",
    "\n",
    "# Configura el estilo y el tamaño del gráfico\n",
    "sns.set(style=\"whitegrid\")\n",
    "plt.figure(figsize=(8, 6))\n",
    "\n",
    "# Crea un QQ-plot de los residuos\n",
    "sm.qqplot(residuos, line='s', ax=plt.gca())\n",
    "plt.title('QQ-plot de los Residuos')\n",
    "\n",
    "# Muestra el gráfico\n",
    "plt.show()"
   ]
  },
  {
   "cell_type": "code",
   "execution_count": null,
   "metadata": {},
   "outputs": [],
   "source": [
    "# Importing library\n",
    "import pandas as pd\n",
    "import seaborn as sns\n",
    "import matplotlib.pyplot as plt\n",
    "import statsmodels.api as sm\n",
    "from scipy import stats\n",
    "modelo_anova = sm.formula.ols('Tiempo ~ C(Optimizador)', data=df).fit()\n",
    "anova_table = sm.stats.anova_lm(modelo_anova, typ=2)\n",
    "\n",
    "# Imprime la tabla ANOVA\n",
    "print(anova_table)\n",
    "\n",
    "# Calcula los residuos\n",
    "residuos = modelo_anova.resid\n",
    "\n",
    "# Configura el estilo y el tamaño del gráfico\n",
    "sns.set(style=\"whitegrid\")\n",
    "plt.figure(figsize=(8, 6))\n",
    "\n",
    "# Crea un QQ-plot de los residuos\n",
    "sm.qqplot(residuos, line='s', ax=plt.gca())\n",
    "plt.title('QQ-plot de los Residuos')\n",
    "\n",
    "# Muestra el gráfico\n",
    "plt.show()"
   ]
  },
  {
   "cell_type": "code",
   "execution_count": null,
   "metadata": {},
   "outputs": [],
   "source": [
    "from scipy.stats import levene\n",
    "\n",
    "grupos = [df['Mean'][df['Optimizador'] == optimizador] for optimizador in df['Optimizador'].unique()]\n",
    "\n",
    "# Realiza la prueba de Levene para homogeneidad de varianza\n",
    "estadistico_levene, p_valor = levene(*grupos)\n",
    "\n",
    "# Imprime los resultados\n",
    "print(\"Estadístico de Levene:\", estadistico_levene)\n",
    "print(\"Valor p:\", p_valor)\n",
    "\n",
    "# Evalúa la significancia estadística del resultado\n",
    "nivel_significancia = 0.05\n",
    "if p_valor < nivel_significancia:\n",
    "    print(\"Se rechaza la hipótesis nula. Hay evidencia de diferencias significativas en las varianzas.\")\n",
    "else:\n",
    "    print(\"No hay suficiente evidencia para rechazar la hipótesis nula. Las varianzas son homogéneas.\")\n"
   ]
  },
  {
   "cell_type": "code",
   "execution_count": null,
   "metadata": {},
   "outputs": [],
   "source": [
    "from scipy.stats import levene\n",
    "\n",
    "grupos = [df['Tiempo'][df['Optimizador'] == optimizador] for optimizador in df['Optimizador'].unique()]\n",
    "\n",
    "# Realiza la prueba de Levene para homogeneidad de varianza\n",
    "estadistico_levene, p_valor = levene(*grupos)\n",
    "\n",
    "# Imprime los resultados\n",
    "print(\"Estadístico de Levene:\", estadistico_levene)\n",
    "print(\"Valor p:\", p_valor)\n",
    "\n",
    "# Evalúa la significancia estadística del resultado\n",
    "nivel_significancia = 0.05\n",
    "if p_valor < nivel_significancia:\n",
    "    print(\"Se rechaza la hipótesis nula. Hay evidencia de diferencias significativas en las varianzas.\")\n",
    "else:\n",
    "    print(\"No hay suficiente evidencia para rechazar la hipótesis nula. Las varianzas son homogéneas.\")"
   ]
  }
 ],
 "metadata": {
  "kernelspec": {
   "display_name": "Python 3",
   "language": "python",
   "name": "python3"
  },
  "language_info": {
   "codemirror_mode": {
    "name": "ipython",
    "version": 3
   },
   "file_extension": ".py",
   "mimetype": "text/x-python",
   "name": "python",
   "nbconvert_exporter": "python",
   "pygments_lexer": "ipython3",
   "version": "3.9.13"
  }
 },
 "nbformat": 4,
 "nbformat_minor": 2
}
